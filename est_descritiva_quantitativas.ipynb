{
 "cells": [
  {
   "cell_type": "markdown",
   "metadata": {},
   "source": [
    "## MBA USP ESALQ\n",
    "# Estatística descritiva\n",
    "\n",
    "### Fundamentos de estatística\n",
    "- Pro. Dr. Wilson Taranti Junior\n",
    "\n",
    "# Tutorial em Python\n",
    "- Criado por Flávio Araujo"
   ]
  },
  {
   "cell_type": "markdown",
   "metadata": {},
   "source": [
    "### Importação das bibliotecas"
   ]
  },
  {
   "cell_type": "code",
   "execution_count": 1,
   "metadata": {},
   "outputs": [],
   "source": [
    "import pandas as pd\n",
    "from scipy.stats import variation, kurtosis, skew\n",
    "import matplotlib.pyplot as plt\n"
   ]
  },
  {
   "cell_type": "markdown",
   "metadata": {},
   "source": [
    "### Importação da tabela do excel para um DataFrame do Pandas\n",
    "\n",
    "Para importação será utilizada a função read_excel da biblioteca do Pandas.\n",
    "Você deve ter o nome do arquivo, com o caminho, caso esteja em outra pasta.\n",
    "O nome da aba e a seleção das colunas. As opções de skiprows e nrows são para pular linhas que não facam parte do dados e a quantidade de linha para importação. Caso queira a coluna toda basta não alterar os valores padrão."
   ]
  },
  {
   "cell_type": "code",
   "execution_count": 2,
   "metadata": {},
   "outputs": [],
   "source": [
    "# tabela de frequêcias\n",
    "arquivo = 'Planilha Suporte - Fundamentos de Estatística.xlsx'\n",
    "aba = 'Descritivas - Quantitativa'\n",
    "colunas = 'A:B'\n",
    "\n",
    "df = pd.read_excel(arquivo,\n",
    "                   aba,\n",
    "                   usecols=colunas,\n",
    "                   skiprows=None,\n",
    "                   nrows=None\n",
    "                   )"
   ]
  },
  {
   "cell_type": "markdown",
   "metadata": {},
   "source": [
    "### Contagem dos valores"
   ]
  },
  {
   "cell_type": "code",
   "execution_count": 3,
   "metadata": {},
   "outputs": [
    {
     "name": "stdout",
     "output_type": "stream",
     "text": [
      "Número de observações 100, das quais 3 são nulas\n"
     ]
    }
   ],
   "source": [
    "# contagem \n",
    "n = df['Preço ($)'].count()\n",
    "\n",
    "# Número de observações sem valor\n",
    "n_faltantes = df['Preço ($)'].isna().sum()\n",
    "\n",
    "print(f\"Número de observações {n}, das quais {n_faltantes} são nulas\")"
   ]
  },
  {
   "cell_type": "code",
   "execution_count": 4,
   "metadata": {},
   "outputs": [
    {
     "name": "stdout",
     "output_type": "stream",
     "text": [
      "Soma total da coluna de preços R$19,077.00\n"
     ]
    }
   ],
   "source": [
    "# soma de uma coluna\n",
    "soma = df['Preço ($)'].sum()\n",
    "print(f'Soma total da coluna de preços R${soma:,.2f}')"
   ]
  },
  {
   "cell_type": "code",
   "execution_count": 5,
   "metadata": {},
   "outputs": [
    {
     "name": "stdout",
     "output_type": "stream",
     "text": [
      "Média da coluna de preços: R$190.77\n"
     ]
    }
   ],
   "source": [
    "# média\n",
    "media = df['Preço ($)'].mean()\n",
    "print(f'Média da coluna de preços: R${media:,.2f}')"
   ]
  },
  {
   "cell_type": "code",
   "execution_count": 6,
   "metadata": {},
   "outputs": [
    {
     "name": "stdout",
     "output_type": "stream",
     "text": [
      "Média da coluna de preços: R$189.00\n"
     ]
    }
   ],
   "source": [
    "# mediana\n",
    "#|Mediana\t189,00|\n",
    "mediana = df['Preço ($)'].median()\n",
    "print(f'Média da coluna de preços: R${mediana:,.2f}')"
   ]
  },
  {
   "cell_type": "code",
   "execution_count": 7,
   "metadata": {},
   "outputs": [
    {
     "name": "stdout",
     "output_type": "stream",
     "text": [
      "O resultado da moda pode ser um ou mais valores, foram encontrados os seguinter valores:\n",
      "199.00\n"
     ]
    }
   ],
   "source": [
    "# moda\n",
    "# Moda\t199,00\n",
    "resultado = df['Preço ($)'].mode().values\n",
    "print(\"O resultado da moda pode ser um ou mais valores, foram encontrados os seguinter valores:\")\n",
    "for r in resultado:\n",
    "    print(f\"{r:,.2f}\")"
   ]
  },
  {
   "cell_type": "code",
   "execution_count": 8,
   "metadata": {},
   "outputs": [
    {
     "name": "stdout",
     "output_type": "stream",
     "text": [
      "Variancia 244.02\n"
     ]
    }
   ],
   "source": [
    "# variância\n",
    "#|Variância\t244,02|\n",
    "variancia = df['Preço ($)'].var()\n",
    "print(f\"Variancia {variancia:0,.2f}\")"
   ]
  },
  {
   "cell_type": "code",
   "execution_count": 9,
   "metadata": {},
   "outputs": [
    {
     "name": "stdout",
     "output_type": "stream",
     "text": [
      "Coeficiente variação 8.19%\n"
     ]
    }
   ],
   "source": [
    "# coeficiente de variação\n",
    "#|Coeficiente de Variação\t8,19%|\n",
    "coeficiente_variacao = variation(df['Preço ($)'],\n",
    "                                 nan_policy='omit',\n",
    "                                 ddof=1)\n",
    "\n",
    "print(f\"Coeficiente variação {coeficiente_variacao*100:0,.2f}%\")"
   ]
  },
  {
   "cell_type": "code",
   "execution_count": 10,
   "metadata": {},
   "outputs": [
    {
     "name": "stdout",
     "output_type": "stream",
     "text": [
      "Coeficiente de assimetria: 0.0899\n"
     ]
    }
   ],
   "source": [
    "# Coeficiente de Assimetria de Fisher\n",
    "# |Coeficiente de Assimetria\t0,0899|\n",
    "coeficiente_assimetria = skew(df['Preço ($)'],\n",
    "                              nan_policy='omit',\n",
    "                              bias=False)\n",
    "print(f\"Coeficiente de assimetria: {coeficiente_assimetria:0.4f}\")"
   ]
  },
  {
   "cell_type": "code",
   "execution_count": 11,
   "metadata": {},
   "outputs": [
    {
     "name": "stdout",
     "output_type": "stream",
     "text": [
      "Coeficiente de assimetria: 0.6695\n"
     ]
    }
   ],
   "source": [
    "# coeficiente Curtosis\n",
    "# Coeficiente de curtose de Fisher:\n",
    "# |Coeficiente de Curtose\t0,6695|\n",
    "coeficiente_curtosis = kurtosis(df['Preço ($)'],\n",
    "         nan_policy='omit',\n",
    "         fisher=True, bias=False\n",
    "         )\n",
    "print(f\"Coeficiente de assimetria: {coeficiente_curtosis:0.4f}\")"
   ]
  },
  {
   "cell_type": "code",
   "execution_count": 12,
   "metadata": {},
   "outputs": [
    {
     "name": "stdout",
     "output_type": "stream",
     "text": [
      "Desvio padrão: 15.62\n"
     ]
    }
   ],
   "source": [
    "# desvio padrão\n",
    "#|Desvio Padrão\t15,62|\n",
    "desvio_padrao = df['Preço ($)'].std()\n",
    "print(f'Desvio padrão: {desvio_padrao:0,.2f}')"
   ]
  },
  {
   "cell_type": "code",
   "execution_count": 13,
   "metadata": {},
   "outputs": [
    {
     "name": "stdout",
     "output_type": "stream",
     "text": [
      "Erro padrão: 1.56\n"
     ]
    }
   ],
   "source": [
    "# erro padrão\n",
    "#|Erro Padrão\t1,56|\n",
    "erro_padrao = df['Preço ($)'].sem()\n",
    "print(f\"Erro padrão: {erro_padrao:0,.2f}\")"
   ]
  },
  {
   "cell_type": "code",
   "execution_count": 14,
   "metadata": {},
   "outputs": [
    {
     "data": {
      "text/plain": [
       "149.0"
      ]
     },
     "execution_count": 14,
     "metadata": {},
     "output_type": "execute_result"
    }
   ],
   "source": [
    "# min\n",
    "#|Valor Mínimo\t149,00|\n",
    "df['Preço ($)'].min()"
   ]
  },
  {
   "cell_type": "code",
   "execution_count": 15,
   "metadata": {},
   "outputs": [
    {
     "data": {
      "text/plain": [
       "239.0"
      ]
     },
     "execution_count": 15,
     "metadata": {},
     "output_type": "execute_result"
    }
   ],
   "source": [
    "#max\n",
    "#|Valor Máximo\t239,00|\n",
    "df['Preço ($)'].max()"
   ]
  },
  {
   "cell_type": "code",
   "execution_count": 16,
   "metadata": {},
   "outputs": [
    {
     "data": {
      "text/plain": [
       "90.0"
      ]
     },
     "execution_count": 16,
     "metadata": {},
     "output_type": "execute_result"
    }
   ],
   "source": [
    "# |Amplitude\t90,00|\n",
    "df['Preço ($)'].max() - df['Preço ($)'].min()"
   ]
  },
  {
   "cell_type": "code",
   "execution_count": 17,
   "metadata": {},
   "outputs": [
    {
     "data": {
      "text/plain": [
       "189.0"
      ]
     },
     "execution_count": 17,
     "metadata": {},
     "output_type": "execute_result"
    }
   ],
   "source": [
    "# percentil\n",
    "#|44º Percentil\t189,00|\n",
    "\n",
    "df['Preço ($)'].quantile(q=0.44)"
   ]
  },
  {
   "cell_type": "code",
   "execution_count": 18,
   "metadata": {},
   "outputs": [
    {
     "data": {
      "text/plain": [
       "count    100.000000\n",
       "mean     190.770000\n",
       "std       15.621052\n",
       "min      149.000000\n",
       "25%      179.000000\n",
       "50%      189.000000\n",
       "75%      199.000000\n",
       "max      239.000000\n",
       "Name: Preço ($), dtype: float64"
      ]
     },
     "execution_count": 18,
     "metadata": {},
     "output_type": "execute_result"
    }
   ],
   "source": [
    "df['Preço ($)'].describe()"
   ]
  },
  {
   "cell_type": "code",
   "execution_count": 27,
   "metadata": {},
   "outputs": [
    {
     "data": {
      "text/plain": [
       "<Axes: xlabel='Preço ($)'>"
      ]
     },
     "execution_count": 27,
     "metadata": {},
     "output_type": "execute_result"
    },
    {
     "data": {
      "image/png": "[encoded data removed]",
      "text/plain": [
       "<Figure size 640x480 with 1 Axes>"
      ]
     },
     "metadata": {},
     "output_type": "display_data"
    }
   ],
   "source": [
    "import seaborn as sns\n",
    "sns.set_theme(style=\"ticks\", palette=\"pastel\")\n",
    "sns.boxplot(data=df, x='Preço ($)')"
   ]
  },
  {
   "cell_type": "code",
   "execution_count": null,
   "metadata": {},
   "outputs": [],
   "source": []
  }
 ],
 "metadata": {
  "kernelspec": {
   "display_name": "venv-acer",
   "language": "python",
   "name": "python3"
  },
  "language_info": {
   "codemirror_mode": {
    "name": "ipython",
    "version": 3
   },
   "file_extension": ".py",
   "mimetype": "text/x-python",
   "name": "python",
   "nbconvert_exporter": "python",
   "pygments_lexer": "ipython3",
   "version": "3.11.6"
  },
  "orig_nbformat": 4
 },
 "nbformat": 4,
 "nbformat_minor": 2
}
