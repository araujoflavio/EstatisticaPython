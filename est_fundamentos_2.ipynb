{
 "cells": [
  {
   "cell_type": "markdown",
   "metadata": {},
   "source": [
    "# Análise Básica em Python\n",
    "\n",
    "## Estatística descritiva\n",
    "### Fundamentos de estatística\n",
    "\n",
    "# Tutorial em Python\n",
    "- Criado por Flávio Araujo"
   ]
  },
  {
   "cell_type": "markdown",
   "metadata": {},
   "source": [
    "# Chi quadrado"
   ]
  },
  {
   "cell_type": "code",
   "execution_count": 1,
   "metadata": {},
   "outputs": [
    {
     "name": "stdout",
     "output_type": "stream",
     "text": [
      " |     40 |     16 |     12 |     68\n",
      " |     32 |     24 |     16 |     72\n",
      " |     24 |     32 |      4 |     60\n",
      " |     96 |     72 |     32 |    200\n",
      "p value is 0.003212084698153722\n",
      "Dependent (reject H0)\n"
     ]
    }
   ],
   "source": [
    "from scipy.stats import chisquare\n",
    "\n",
    "tabela = [\n",
    "[40, 16, 12],\n",
    "[32, 24, 16],\n",
    "[24, 32,  4]\n",
    "]\n",
    "\n",
    "# Calcula a soma das linhas\n",
    "soma_linha = [sum(t) for t in tabela]\n",
    "\n",
    "# calcula a soma das colunas\n",
    "soma_coluna = []\n",
    "for i in range(len(tabela[0])):\n",
    "    n = 0\n",
    "    for j in range(len(tabela[i])):\n",
    "        n += tabela[j][i]\n",
    "    soma_coluna.append(n)\n",
    "\n",
    "# Cria a tabela de frequencias esperadas\n",
    "esperada = []\n",
    "for c in soma_linha:\n",
    "    linha = []\n",
    "    for l in soma_coluna:\n",
    "        linha.append(l*c/sum(soma_coluna))\n",
    "    esperada.append(linha)\n",
    "\n",
    "# calcula os graus de liberdade)\n",
    "ddof = (len(tabela)-1) * (len(tabela[0])-1)\n",
    "\n",
    "valor_chi2, p = chisquare(f_obs=tabela, f_exp=esperada, ddof=ddof, axis=None)\n",
    "\n",
    "\n",
    "# imprime a tabela\n",
    "for i, l in enumerate(tabela):\n",
    "    print(\"\", end=\" | \")\n",
    "    for j, c in enumerate(l):\n",
    "        print(f\"{c: 6,.0f}\", end=\" | \")\n",
    "    print(f\"{soma_linha[i]: 6,.0f}\")\n",
    "print(\"\", end=\" | \")\n",
    "for i, l in enumerate(soma_coluna):\n",
    "    print(f\"{l: 6,.0f}\", end=\" | \")\n",
    "print(f\"{sum(soma_linha): 6,.0f}\")\n",
    "\n",
    "# interpret p-value\n",
    "alpha = 0.05\n",
    "print(\"p value is \" + str(p))\n",
    "if p <= alpha:\n",
    "    print('Dependent (reject H0)')\n",
    "else:\n",
    "    print('Independent (H0 holds true)')"
   ]
  },
  {
   "cell_type": "markdown",
   "metadata": {},
   "source": [
    "# Correlação de Pearson"
   ]
  },
  {
   "cell_type": "code",
   "execution_count": 2,
   "metadata": {},
   "outputs": [
    {
     "name": "stdout",
     "output_type": "stream",
     "text": [
      "Notas Matemática - Notas Física - corr 0.6025321124160095 / p = 0.0004260030729539852\n",
      "Notas Matemática - Notas Literatura - corr -0.308782778326862 / p = 0.09686159239066042\n",
      "Notas Física - Notas Matemática - corr -0.2895610252192638 / p = 0.12064697753111912\n",
      "Matriz de correlação\n",
      "[[ 1.          0.60253211 -0.30878278]\n",
      " [ 0.60253211  1.         -0.28956103]\n",
      " [-0.30878278 -0.28956103  1.        ]]\n"
     ]
    }
   ],
   "source": [
    "from scipy.stats import pearsonr\n",
    "import numpy as np\n",
    "\n",
    "notas_matematica = [\n",
    "    5.50, 9.00, 4.50, 6.50, 7.50, 3.00, 10.00, 9.00, 4.50, 5.00, 3.50, 7.50, 6.50, 8.00, 4.00,\n",
    "    7.00, 7.50, 6.00, 10.00, 9.00, 8.00, 5.00, 4.00, 9.50, 6.50, 7.00, 5.00, 6.50, 8.50, 9.75]\n",
    "notas_fisica = [\n",
    "    7.50, 8.50, 5.00, 8.00, 6.00, 6.00, 8.00, 8.00, 5.50, 5.00, 5.00, 9.00, 7.50, 9.00, 5.00,\n",
    "    6.00, 7.50, 9.00, 7.50, 10.00, 9.00, 5.00, 3.00,  8.00, 7.00, 7.50, 4.50, 8.00, 6.00, 5.00]\n",
    "notas_literatura = [\n",
    "    9.00, 5.50, 6.50, 6.50, 5.00, 10.00, 5.50, 6.50, 8.00, 5.50, 7.50, 4.50, 8.50, 5.00, 6.50,\n",
    "    8.50, 6.00, 3.00, 5.00, 5.50, 9.00, 5.00, 7.50, 8.50, 4.50, 8.00, 9.00, 5.00, 6.00, 6.50 ]\n",
    "\n",
    "cor, p = pearsonr(notas_matematica, notas_fisica)\n",
    "print(f\"Notas Matemática - Notas Física - corr {cor} / p = {p}\")\n",
    "\n",
    "cor, p = pearsonr(notas_matematica, notas_literatura)\n",
    "print(f\"Notas Matemática - Notas Literatura - corr {cor} / p = {p}\")\n",
    "\n",
    "cor, p = pearsonr(notas_fisica, notas_literatura)\n",
    "print(f\"Notas Física - Notas Matemática - corr {cor} / p = {p}\")\n",
    "\n",
    "print(\"Matriz de correlação\")\n",
    "print(np.corrcoef([notas_matematica, notas_fisica, notas_literatura], rowvar=True))\n"
   ]
  },
  {
   "cell_type": "markdown",
   "metadata": {},
   "source": [
    "# Distribuição Binomial"
   ]
  },
  {
   "cell_type": "markdown",
   "metadata": {},
   "source": [
    "binom takes n and p as shape parameters, where p is the probability of a single success and 1-p is the probability of a single failure.\n",
    "The probability mass function above is defined in the “standardized” form. To shift distribution use the loc parameter. Specifically, binom.pmf(k, n, p, loc) is identically equivalent to binom.pmf(k - loc, n, p).\n",
    "\n",
    "The formula for the probability mass function was:\n",
    "$$bpmf\\left(n,k,p\\right) = \\binom{n}{k}p^k\\left(1 - p\\right)^{n - k}$$"
   ]
  },
  {
   "cell_type": "markdown",
   "metadata": {},
   "source": [
    "https://docs.scipy.org/doc/scipy/reference/generated/scipy.stats.binom.html#scipy.stats.binom"
   ]
  },
  {
   "cell_type": "code",
   "execution_count": 35,
   "metadata": {},
   "outputs": [
    {
     "data": {
      "text/plain": [
       "0.37241084729587093"
      ]
     },
     "execution_count": 35,
     "metadata": {},
     "output_type": "execute_result"
    }
   ],
   "source": [
    "# Qualquer formula pode ser refeita com matemática básica abaixo um exemplo de formula usado apenas a biblioteca math do python\n",
    "\n",
    "import math\n",
    "def bpmf(n, k, p):\n",
    "    return math.comb(n, k) * p**k * (1 - p)**(n-k)\n",
    "\n",
    "p = 0.065\n",
    "n = 12\n",
    "k = 1\n",
    "\n",
    "bpmf(n, k, p)"
   ]
  },
  {
   "cell_type": "code",
   "execution_count": 43,
   "metadata": {},
   "outputs": [
    {
     "name": "stdout",
     "output_type": "stream",
     "text": [
      "A probabilidade de 7 é de 0.0248%\n",
      "Média: 1.6666666666666665, Variância: 1.3888888888888888, Skew: 0.565685424949238, Curtosis: 0.11999999999999998\n"
     ]
    }
   ],
   "source": [
    "# distribuição Binomial\n",
    "# Aqui usaremos a biblioteca Scipy com muito suporte para estatística\n",
    "from scipy.stats import binom\n",
    "\n",
    "# temos a quantidade de sucessos (k) nas (n) repetições do experimento onde cada ocorrência tem uma probabilidade de sucesso de (p) \n",
    "p = 1/6\n",
    "n = 10\n",
    "k = 7\n",
    "\n",
    "# gera uma distribuição binomial\n",
    "dist = binom(n, p)\n",
    "\n",
    "# Calcula dados estaísiticos destas amostras\n",
    "mean, var, skew, kurt = dist.stats(moments='mvsk')\n",
    "\n",
    "# calcula a probabilidade de 1 \n",
    "prob = dist.pmf(k)\n",
    "\n",
    "# ou em uma linha\n",
    "#binom.pmf(k,n,p)\n",
    "print(f\"A probabilidade de {k} é de {prob*100:.04f}%\")\n",
    "print(f\"Média: {mean}, Variância: {var}, Skew: {skew}, Curtosis: {kurt}\")"
   ]
  },
  {
   "cell_type": "code",
   "execution_count": 5,
   "metadata": {},
   "outputs": [
    {
     "name": "stdout",
     "output_type": "stream",
     "text": [
      "A probabilidade de obter 4 sucessos é 6.9016%\n",
      "0.06901646510000001\n"
     ]
    }
   ],
   "source": [
    "# ditribuição Binomial Negativa\n",
    "\n",
    "from scipy.stats import nbinom\n",
    "numero_ensaios = 5\n",
    "quantidade_sucessos_k = 1\n",
    "\n",
    "p = 0.11\n",
    "n = quantidade_sucessos_k\n",
    "k = numero_ensaios - quantidade_sucessos_k\n",
    "\n",
    "# Gerando uma distribuição binomial negativa\n",
    "distribuicao = nbinom(n, p)\n",
    "\n",
    "# Calculando a probabilidade de obter k sucessos\n",
    "probabilidade = distribuicao.pmf(k)\n",
    "\n",
    "print(f\"A probabilidade de obter {k} sucessos é {probabilidade*100:.4f}%\")\n",
    "print(probabilidade)\n",
    "\n"
   ]
  },
  {
   "cell_type": "code",
   "execution_count": 58,
   "metadata": {},
   "outputs": [
    {
     "name": "stdout",
     "output_type": "stream",
     "text": [
      "Um médico notou que a taxa média de ocorrência (𝝀) de pacientes\n",
      "com certa doença rara em seu consultório é de 2 por ano. Aceitando que esta\n",
      "variável tenha distribuição Poisson, estime:\n",
      "A probabilidade de que o médico receba 1 paciente por ano é de 27.07%\n"
     ]
    }
   ],
   "source": [
    "# distribuição Poisson\n",
    "from scipy.stats import poisson\n",
    "\n",
    "x = 1\n",
    "mu = 2\n",
    "prob = poisson.pmf(x, mu)\n",
    "print(\"Um médico notou que a taxa média de ocorrência (𝝀) de pacientes\\ncom certa doença rara em seu consultório é de 2 por ano. Aceitando que esta\\nvariável tenha distribuição Poisson, estime:\")\n",
    "print(f\"A probabilidade de que o médico receba {x} paciente por ano é de {prob*100:.02f}%\")"
   ]
  },
  {
   "cell_type": "code",
   "execution_count": null,
   "metadata": {},
   "outputs": [],
   "source": []
  }
 ],
 "metadata": {
  "kernelspec": {
   "display_name": "venv-acer",
   "language": "python",
   "name": "python3"
  },
  "language_info": {
   "codemirror_mode": {
    "name": "ipython",
    "version": 3
   },
   "file_extension": ".py",
   "mimetype": "text/x-python",
   "name": "python",
   "nbconvert_exporter": "python",
   "pygments_lexer": "ipython3",
   "version": "3.11.6"
  }
 },
 "nbformat": 4,
 "nbformat_minor": 2
}
