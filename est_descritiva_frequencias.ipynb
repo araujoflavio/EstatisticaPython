{
 "cells": [
  {
   "cell_type": "markdown",
   "metadata": {},
   "source": [
    "# Análise Estatística Básica em Python \n",
    "### Fundamentos de estatística\n",
    "#### Estatística descritiva - Frequências\n",
    "\n",
    "\n",
    "**Criado por**:\n",
    "- *Flávio Araújo*\n",
    "\n",
    "**Colaboradores**:\n",
    "- *Kurt Peters*"
   ]
  },
  {
   "cell_type": "markdown",
   "metadata": {},
   "source": [
    "Inicie um projeto definindo e importando as bibliotercas.\n",
    "Para esse projeto vamos utilizar **Pandas** para importação dos dados e manipulação básica.\n",
    "Para od gráficos utilizaremos **Matplotlib**"
   ]
  },
  {
   "cell_type": "code",
   "execution_count": null,
   "metadata": {},
   "outputs": [],
   "source": [
    "import pandas as pd\n",
    "import matplotlib.pyplot as plt"
   ]
  },
  {
   "cell_type": "markdown",
   "metadata": {},
   "source": [
    "#### Importação dos dados\n",
    "Existem várias formas de importar os dados e fazer as manipulações. Para dados que não sejam extremamente grandes o Pandas oferece uma opção muito boa.\n"
   ]
  },
  {
   "cell_type": "code",
   "execution_count": null,
   "metadata": {},
   "outputs": [],
   "source": [
    "df = pd.read_csv('DadosDescritiva.csv')"
   ]
  },
  {
   "cell_type": "markdown",
   "metadata": {},
   "source": [
    "Inicialmente vamos transformar os dados em uma contágem de ocorrências. Para essa tarefa temos dentro do pandas o método \"value_counts()\". Ele retorna uma série do pandas com a contágem dos valores em ordem decrescente e os nomes no índice (index)."
   ]
  },
  {
   "cell_type": "code",
   "execution_count": null,
   "metadata": {},
   "outputs": [],
   "source": [
    "# contagem\n",
    "contagem = df['País de Origem'].value_counts()\n",
    "contagem"
   ]
  },
  {
   "cell_type": "markdown",
   "metadata": {},
   "source": [
    "Caso queira apresentar os dados em ordem inversa abaixo temos um das formas como exemplo:"
   ]
  },
  {
   "cell_type": "code",
   "execution_count": null,
   "metadata": {},
   "outputs": [],
   "source": [
    "contagem.iloc[::-1] # inverte a ordem"
   ]
  },
  {
   "cell_type": "markdown",
   "metadata": {},
   "source": [
    "Vamos agora calcular a frequências"
   ]
  },
  {
   "cell_type": "code",
   "execution_count": null,
   "metadata": {},
   "outputs": [],
   "source": [
    "# Frequência\n",
    "contagem/sum(contagem)*100"
   ]
  },
  {
   "cell_type": "markdown",
   "metadata": {},
   "source": [
    "E agora as frequências cumulativas"
   ]
  },
  {
   "cell_type": "code",
   "execution_count": null,
   "metadata": {},
   "outputs": [],
   "source": [
    "contagem.cumsum()/sum(contagem)*100"
   ]
  },
  {
   "cell_type": "markdown",
   "metadata": {},
   "source": [
    "Caso faça sentido na sua análise pode também inverter a ordem ..."
   ]
  },
  {
   "cell_type": "code",
   "execution_count": null,
   "metadata": {},
   "outputs": [],
   "source": [
    "contagem.iloc[::-1].cumsum()/sum(contagem)*100"
   ]
  },
  {
   "cell_type": "markdown",
   "metadata": {},
   "source": [
    "As representações gráfica de frequência mais comuns são: Pizza (ou Pie em inglês) e Barras "
   ]
  },
  {
   "cell_type": "code",
   "execution_count": null,
   "metadata": {},
   "outputs": [],
   "source": [
    "labels = contagem.index\n",
    "sizes = contagem.values\n",
    "fig, ax = plt.subplots()\n",
    "ax.pie(sizes, labels=labels, autopct='%1.1f%%')\n",
    "fig.show()"
   ]
  },
  {
   "cell_type": "code",
   "execution_count": null,
   "metadata": {},
   "outputs": [],
   "source": [
    "labels = contagem.index\n",
    "sizes = contagem.values\n",
    "fig, ax = plt.subplots()\n",
    "ax.barh(labels, sizes) # foi utilizado o barh e não o bar para melhor visualização\n",
    "fig.show()"
   ]
  },
  {
   "cell_type": "code",
   "execution_count": null,
   "metadata": {},
   "outputs": [],
   "source": []
  }
 ],
 "metadata": {
  "kernelspec": {
   "display_name": "venv-acer",
   "language": "python",
   "name": "python3"
  },
  "language_info": {
   "codemirror_mode": {
    "name": "ipython",
    "version": 3
   },
   "file_extension": ".py",
   "mimetype": "text/x-python",
   "name": "python",
   "nbconvert_exporter": "python",
   "pygments_lexer": "ipython3",
   "version": "3.11.6"
  },
  "orig_nbformat": 4
 },
 "nbformat": 4,
 "nbformat_minor": 2
}
